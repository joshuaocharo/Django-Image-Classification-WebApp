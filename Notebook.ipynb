{
 "cells": [
  {
   "cell_type": "code",
   "execution_count": null,
   "id": "cd85d5da-d0d2-4004-a4d7-fabe548ccd15",
   "metadata": {},
   "outputs": [],
   "source": [
    "from keras.applications import mobilenet"
   ]
  },
  {
   "cell_type": "code",
   "execution_count": null,
   "id": "ee51f5fb-8cea-4b10-b7c7-d6e380978ae6",
   "metadata": {},
   "outputs": [],
   "source": [
    "model=mobilenet.MobileNet(include_top=True,weights='imagenet')"
   ]
  },
  {
   "cell_type": "code",
   "execution_count": 11,
   "id": "a8338f5c-6f3b-433b-b1eb-8cd42dd47ffb",
   "metadata": {
    "collapsed": true,
    "jupyter": {
     "outputs_hidden": true
    },
    "tags": []
   },
   "outputs": [
    {
     "data": {
      "text/plain": [
       "[<keras.engine.input_layer.InputLayer at 0x21653169ac0>,\n",
       " <keras.layers.convolutional.Conv2D at 0x216695f1c40>,\n",
       " <keras.layers.normalization.batch_normalization.BatchNormalization at 0x2166965c310>,\n",
       " <keras.layers.advanced_activations.ReLU at 0x2166965c640>,\n",
       " <keras.layers.convolutional.DepthwiseConv2D at 0x216696b75b0>,\n",
       " <keras.layers.normalization.batch_normalization.BatchNormalization at 0x21669806ac0>,\n",
       " <keras.layers.advanced_activations.ReLU at 0x2166981f760>,\n",
       " <keras.layers.convolutional.Conv2D at 0x21669826340>,\n",
       " <keras.layers.normalization.batch_normalization.BatchNormalization at 0x2166982faf0>,\n",
       " <keras.layers.advanced_activations.ReLU at 0x21669826d00>,\n",
       " <keras.layers.convolutional.ZeroPadding2D at 0x2166981fcd0>,\n",
       " <keras.layers.convolutional.DepthwiseConv2D at 0x216696b75e0>,\n",
       " <keras.layers.normalization.batch_normalization.BatchNormalization at 0x216696b7af0>,\n",
       " <keras.layers.advanced_activations.ReLU at 0x2166965c580>,\n",
       " <keras.layers.convolutional.Conv2D at 0x21669839790>,\n",
       " <keras.layers.normalization.batch_normalization.BatchNormalization at 0x2166980f580>,\n",
       " <keras.layers.advanced_activations.ReLU at 0x2166981fee0>,\n",
       " <keras.layers.convolutional.DepthwiseConv2D at 0x2166965c460>,\n",
       " <keras.layers.normalization.batch_normalization.BatchNormalization at 0x2166984c130>,\n",
       " <keras.layers.advanced_activations.ReLU at 0x216696b74f0>,\n",
       " <keras.layers.convolutional.Conv2D at 0x21669843850>,\n",
       " <keras.layers.normalization.batch_normalization.BatchNormalization at 0x21669851ca0>,\n",
       " <keras.layers.advanced_activations.ReLU at 0x216698392b0>,\n",
       " <keras.layers.convolutional.ZeroPadding2D at 0x216698549d0>,\n",
       " <keras.layers.convolutional.DepthwiseConv2D at 0x21669843ac0>,\n",
       " <keras.layers.normalization.batch_normalization.BatchNormalization at 0x21669863820>,\n",
       " <keras.layers.advanced_activations.ReLU at 0x2166985d520>,\n",
       " <keras.layers.convolutional.Conv2D at 0x216698630d0>,\n",
       " <keras.layers.normalization.batch_normalization.BatchNormalization at 0x2166986a280>,\n",
       " <keras.layers.advanced_activations.ReLU at 0x21669872100>,\n",
       " <keras.layers.convolutional.DepthwiseConv2D at 0x21669872820>,\n",
       " <keras.layers.normalization.batch_normalization.BatchNormalization at 0x21669878c70>,\n",
       " <keras.layers.advanced_activations.ReLU at 0x21669885070>,\n",
       " <keras.layers.convolutional.Conv2D at 0x21669885460>,\n",
       " <keras.layers.normalization.batch_normalization.BatchNormalization at 0x21669878670>,\n",
       " <keras.layers.advanced_activations.ReLU at 0x216698910a0>,\n",
       " <keras.layers.convolutional.ZeroPadding2D at 0x216698917c0>,\n",
       " <keras.layers.convolutional.DepthwiseConv2D at 0x2166988feb0>,\n",
       " <keras.layers.normalization.batch_normalization.BatchNormalization at 0x21669898fd0>,\n",
       " <keras.layers.advanced_activations.ReLU at 0x2166989e3d0>,\n",
       " <keras.layers.convolutional.Conv2D at 0x2166988f130>,\n",
       " <keras.layers.normalization.batch_normalization.BatchNormalization at 0x216698a58b0>,\n",
       " <keras.layers.advanced_activations.ReLU at 0x216698af040>,\n",
       " <keras.layers.convolutional.DepthwiseConv2D at 0x216698af4f0>,\n",
       " <keras.layers.normalization.batch_normalization.BatchNormalization at 0x21669898ac0>,\n",
       " <keras.layers.advanced_activations.ReLU at 0x216698bd160>,\n",
       " <keras.layers.convolutional.Conv2D at 0x216698bd8b0>,\n",
       " <keras.layers.normalization.batch_normalization.BatchNormalization at 0x216698afca0>,\n",
       " <keras.layers.advanced_activations.ReLU at 0x216698be130>,\n",
       " <keras.layers.convolutional.DepthwiseConv2D at 0x216698bea00>,\n",
       " <keras.layers.normalization.batch_normalization.BatchNormalization at 0x216698c4790>,\n",
       " <keras.layers.advanced_activations.ReLU at 0x216698af0d0>,\n",
       " <keras.layers.convolutional.Conv2D at 0x216698a5fa0>,\n",
       " <keras.layers.normalization.batch_normalization.BatchNormalization at 0x216698513d0>,\n",
       " <keras.layers.advanced_activations.ReLU at 0x21669885c10>,\n",
       " <keras.layers.convolutional.DepthwiseConv2D at 0x216698b48b0>,\n",
       " <keras.layers.normalization.batch_normalization.BatchNormalization at 0x21669839b20>,\n",
       " <keras.layers.advanced_activations.ReLU at 0x2166984ca30>,\n",
       " <keras.layers.convolutional.Conv2D at 0x216698679d0>,\n",
       " <keras.layers.normalization.batch_normalization.BatchNormalization at 0x216698d5ca0>,\n",
       " <keras.layers.advanced_activations.ReLU at 0x216698d1a60>,\n",
       " <keras.layers.convolutional.DepthwiseConv2D at 0x216698d6220>,\n",
       " <keras.layers.normalization.batch_normalization.BatchNormalization at 0x216698dadf0>,\n",
       " <keras.layers.advanced_activations.ReLU at 0x216698db190>,\n",
       " <keras.layers.convolutional.Conv2D at 0x216698dbdc0>,\n",
       " <keras.layers.normalization.batch_normalization.BatchNormalization at 0x216698dcd60>,\n",
       " <keras.layers.advanced_activations.ReLU at 0x216698e2250>,\n",
       " <keras.layers.convolutional.DepthwiseConv2D at 0x216698dcb20>,\n",
       " <keras.layers.normalization.batch_normalization.BatchNormalization at 0x216698e7700>,\n",
       " <keras.layers.advanced_activations.ReLU at 0x216698f5520>,\n",
       " <keras.layers.convolutional.Conv2D at 0x216698f56d0>,\n",
       " <keras.layers.normalization.batch_normalization.BatchNormalization at 0x216698da160>,\n",
       " <keras.layers.advanced_activations.ReLU at 0x216698fb460>,\n",
       " <keras.layers.convolutional.ZeroPadding2D at 0x216698e0ee0>,\n",
       " <keras.layers.convolutional.DepthwiseConv2D at 0x216698fb4c0>,\n",
       " <keras.layers.normalization.batch_normalization.BatchNormalization at 0x21669900dc0>,\n",
       " <keras.layers.advanced_activations.ReLU at 0x2166990c100>,\n",
       " <keras.layers.convolutional.Conv2D at 0x216698f5f40>,\n",
       " <keras.layers.normalization.batch_normalization.BatchNormalization at 0x216699112b0>,\n",
       " <keras.layers.advanced_activations.ReLU at 0x21669918100>,\n",
       " <keras.layers.convolutional.DepthwiseConv2D at 0x21669918820>,\n",
       " <keras.layers.normalization.batch_normalization.BatchNormalization at 0x21669900820>,\n",
       " <keras.layers.advanced_activations.ReLU at 0x2166991f280>,\n",
       " <keras.layers.convolutional.Conv2D at 0x216699247c0>,\n",
       " <keras.layers.normalization.batch_normalization.BatchNormalization at 0x21669929ca0>,\n",
       " <keras.layers.advanced_activations.ReLU at 0x216699244c0>,\n",
       " <keras.layers.pooling.GlobalAveragePooling2D at 0x2166991fd60>,\n",
       " <keras.layers.core.dropout.Dropout at 0x2166992efa0>,\n",
       " <keras.layers.convolutional.Conv2D at 0x21669933eb0>,\n",
       " <keras.layers.core.reshape.Reshape at 0x2166992efd0>,\n",
       " <keras.layers.core.activation.Activation at 0x21669933040>]"
      ]
     },
     "execution_count": 11,
     "metadata": {},
     "output_type": "execute_result"
    }
   ],
   "source": [
    "model.layers"
   ]
  },
  {
   "cell_type": "code",
   "execution_count": 12,
   "id": "e56e400c-4a67-4ed5-97cc-7043aad977cd",
   "metadata": {},
   "outputs": [],
   "source": [
    "from keras.preprocessing import image\n",
    "import tensorflow as tf\n",
    "from tensorflow import Graph\n",
    "Session = tf.compat.v1.Session(\n",
    "    target='', graph=None, config=None\n",
    ")"
   ]
  },
  {
   "cell_type": "code",
   "execution_count": 13,
   "id": "f19d7589-d85f-4ec4-a799-c66672a0a77c",
   "metadata": {},
   "outputs": [],
   "source": [
    "img_height, img_width= 224,224 #resize image"
   ]
  },
  {
   "cell_type": "code",
   "execution_count": 14,
   "id": "7c5b69f5-dcd9-4ad4-a8d0-749fdd8d634c",
   "metadata": {},
   "outputs": [],
   "source": [
    "with open('imagenet_classes.json','r') as f:\n",
    "    labelInfo=f.read() #labels"
   ]
  },
  {
   "cell_type": "code",
   "execution_count": 15,
   "id": "6bf508af-dba2-4337-b7b7-390cd7515b8b",
   "metadata": {},
   "outputs": [],
   "source": [
    "import json #read labels"
   ]
  },
  {
   "cell_type": "code",
   "execution_count": 16,
   "id": "6fc464a8-062e-4a01-9b5c-33874b748eb5",
   "metadata": {},
   "outputs": [],
   "source": [
    "labelInfo=json.loads(labelInfo)"
   ]
  },
  {
   "cell_type": "markdown",
   "id": "54d722ca-8ae7-4572-9433-8e0e9492302d",
   "metadata": {},
   "source": [
    "### labelInfo"
   ]
  },
  {
   "cell_type": "code",
   "execution_count": 17,
   "id": "d9a31103-8779-4ad1-8f22-63fd72d209cb",
   "metadata": {},
   "outputs": [],
   "source": [
    "testimage='sumatran-tiger-wz-gsmp-m.jpg'"
   ]
  },
  {
   "cell_type": "code",
   "execution_count": 19,
   "id": "24973db7-b43b-492f-9c2e-54732c5cc4df",
   "metadata": {},
   "outputs": [],
   "source": [
    "img = image.load_img(testimage, target_size=(img_height, img_width))#get image and resize\n",
    "x = image.img_to_array(img) #convert to array\n",
    "x=x/255 #normalize\n",
    "x=x.reshape(1,img_height, img_width,3)"
   ]
  },
  {
   "cell_type": "code",
   "execution_count": 22,
   "id": "3ff66267-91f0-4437-a0bf-3935dd5e5bab",
   "metadata": {},
   "outputs": [],
   "source": [
    "predi=model.predict(x)"
   ]
  },
  {
   "cell_type": "code",
   "execution_count": 25,
   "id": "0d48c862-299e-4024-b44f-ab0c07a92da9",
   "metadata": {
    "collapsed": true,
    "jupyter": {
     "outputs_hidden": true
    },
    "tags": []
   },
   "outputs": [
    {
     "data": {
      "text/plain": [
       "array([[1.96414107e-09, 9.27415087e-08, 8.19614820e-10, 1.96776984e-10,\n",
       "        1.61577540e-09, 4.16271329e-09, 5.95132343e-09, 3.75577315e-07,\n",
       "        3.89513161e-07, 3.29284511e-09, 2.56338626e-06, 1.41355070e-08,\n",
       "        2.48202277e-08, 5.99904482e-08, 3.72894871e-09, 1.19973117e-06,\n",
       "        2.85832229e-08, 5.73641685e-08, 4.24470148e-09, 1.82484463e-08,\n",
       "        2.43250895e-07, 1.63494729e-08, 1.24577404e-10, 1.01550075e-08,\n",
       "        6.07006427e-07, 7.09090697e-09, 9.25631483e-09, 1.36073677e-08,\n",
       "        5.31609601e-08, 1.18663390e-08, 1.28711758e-06, 3.73917608e-09,\n",
       "        1.23827277e-08, 1.31727997e-08, 2.56814636e-09, 4.26829320e-06,\n",
       "        4.32878278e-06, 1.24069970e-06, 4.62101291e-08, 8.26876771e-07,\n",
       "        6.41844409e-08, 3.42856907e-07, 1.36569271e-08, 6.00531891e-08,\n",
       "        1.36557547e-08, 2.23536016e-08, 2.38426367e-07, 1.09826948e-08,\n",
       "        2.76657914e-08, 8.71014834e-08, 1.10663212e-08, 3.56655011e-10,\n",
       "        5.37636780e-09, 2.75248757e-09, 2.97842573e-09, 5.60544111e-10,\n",
       "        9.29485253e-08, 2.80131474e-09, 2.58577320e-08, 1.14743433e-08,\n",
       "        3.21102220e-07, 1.73825327e-07, 1.16904380e-08, 9.83475967e-10,\n",
       "        3.15946447e-09, 9.39763045e-10, 3.88979737e-09, 3.95981159e-09,\n",
       "        1.95029035e-10, 1.01572895e-09, 8.68580208e-10, 2.00112087e-08,\n",
       "        1.09233224e-06, 4.26418723e-08, 2.17844587e-07, 7.60241381e-09,\n",
       "        3.38745565e-07, 2.61429449e-07, 7.77266038e-08, 8.08659365e-07,\n",
       "        3.25386140e-09, 1.55645754e-08, 8.30369572e-07, 1.55214195e-07,\n",
       "        1.79438864e-08, 1.67226318e-07, 2.26151577e-08, 2.58268162e-09,\n",
       "        3.32268399e-07, 1.28428139e-08, 4.47830331e-07, 4.85217377e-08,\n",
       "        3.57056962e-08, 8.80572983e-08, 3.30333307e-08, 1.89202041e-07,\n",
       "        2.28874897e-09, 2.94527382e-07, 1.27931594e-08, 2.66042051e-08,\n",
       "        3.61028513e-10, 8.25282509e-10, 2.40377135e-10, 9.11072817e-08,\n",
       "        2.33630686e-07, 2.91539692e-07, 7.68859962e-08, 1.16323140e-09,\n",
       "        1.17806165e-09, 1.59080802e-08, 9.79902453e-08, 9.81301845e-11,\n",
       "        1.58543656e-09, 6.30978221e-08, 1.00343868e-07, 6.15798390e-09,\n",
       "        1.84412826e-07, 2.69841181e-08, 9.50794970e-07, 1.42251324e-07,\n",
       "        5.75747050e-09, 1.13382748e-06, 2.98413511e-07, 1.61378907e-07,\n",
       "        1.23244874e-07, 4.18017709e-09, 8.68072192e-09, 1.64262959e-09,\n",
       "        2.61755631e-08, 1.13957386e-08, 1.88027638e-09, 1.56487570e-08,\n",
       "        2.17073417e-08, 9.50488527e-07, 3.45181350e-09, 8.55207549e-09,\n",
       "        6.69037270e-09, 3.09016729e-10, 1.25752877e-07, 9.15151688e-08,\n",
       "        3.74020715e-07, 3.32899589e-07, 2.55823920e-07, 2.73480483e-09,\n",
       "        3.13080974e-08, 7.11528628e-07, 8.54777707e-11, 2.78170509e-09,\n",
       "        2.84079676e-10, 1.96400521e-10, 4.06984157e-07, 6.76072460e-08,\n",
       "        3.94244992e-08, 1.56455182e-10, 1.73883627e-08, 8.23843926e-09,\n",
       "        7.07485714e-09, 2.56050647e-09, 1.55969087e-08, 2.77807771e-06,\n",
       "        1.74266095e-08, 9.99639198e-08, 5.50794255e-08, 3.31895791e-08,\n",
       "        8.44111447e-09, 1.25179191e-08, 1.10514078e-08, 3.10626795e-08,\n",
       "        1.63475477e-07, 6.90999347e-09, 1.53135316e-09, 2.04360813e-08,\n",
       "        9.88914062e-10, 3.69185997e-08, 1.98194989e-08, 2.61233302e-09,\n",
       "        1.02730064e-08, 2.71379558e-10, 2.32126567e-08, 2.46122838e-08,\n",
       "        1.65954468e-08, 1.12442089e-09, 4.12653307e-08, 6.64417232e-09,\n",
       "        6.19928144e-08, 4.13208525e-08, 5.20354781e-08, 9.26695449e-08,\n",
       "        2.80273649e-09, 8.58268212e-09, 2.46589771e-09, 1.89010780e-08,\n",
       "        8.51381277e-09, 2.55847201e-08, 3.18989790e-09, 1.70349086e-08,\n",
       "        1.20517356e-08, 8.28566815e-09, 1.73473424e-07, 3.16432525e-09,\n",
       "        1.92547258e-08, 4.99801001e-09, 5.16341117e-07, 1.21701671e-08,\n",
       "        6.21491747e-09, 6.98257097e-09, 4.27428010e-10, 5.21936236e-08,\n",
       "        1.83900355e-07, 1.49622764e-07, 1.25332802e-08, 2.78607558e-07,\n",
       "        1.50519330e-08, 4.45281714e-08, 1.82368591e-08, 4.54532284e-07,\n",
       "        1.81312139e-08, 2.40462210e-08, 7.72134214e-08, 3.82456626e-08,\n",
       "        1.99472261e-08, 1.10220624e-08, 8.76253381e-09, 8.37338519e-08,\n",
       "        2.56085464e-08, 1.67756625e-07, 1.27687017e-09, 7.92549770e-07,\n",
       "        1.89556829e-10, 2.61467581e-09, 2.53061909e-08, 2.28360353e-09,\n",
       "        1.95277607e-07, 1.46123931e-08, 7.96442379e-08, 3.29350627e-08,\n",
       "        8.87511646e-08, 3.64941428e-07, 4.18056203e-08, 3.07359556e-07,\n",
       "        1.15330209e-07, 5.46449241e-09, 5.72935619e-07, 1.96277981e-07,\n",
       "        5.19101036e-07, 2.80856547e-08, 2.12441247e-08, 5.67781022e-08,\n",
       "        4.10656810e-07, 5.82343063e-08, 7.97468033e-07, 2.80586983e-06,\n",
       "        5.14852383e-10, 5.24861548e-07, 4.04518858e-07, 3.81885314e-07,\n",
       "        1.15378773e-08, 1.35853695e-09, 2.10656870e-09, 1.00678736e-08,\n",
       "        1.48065817e-06, 1.13997380e-08, 6.55466579e-07, 2.61483592e-07,\n",
       "        2.51188510e-07, 2.10046247e-09, 1.78124926e-09, 1.01640518e-09,\n",
       "        7.35487338e-10, 1.29079226e-07, 8.16215984e-09, 2.25325664e-07,\n",
       "        1.84437809e-07, 3.63524038e-08, 4.91381797e-05, 2.20887614e-07,\n",
       "        1.76886203e-08, 1.37552803e-07, 8.06537912e-08, 2.28073151e-08,\n",
       "        6.09629183e-07, 3.30490293e-04, 7.50556141e-02, 5.42222871e-08,\n",
       "        2.18295881e-07, 3.31584997e-05, 2.98500054e-05, 1.10136007e-03,\n",
       "        1.87444079e-04, 6.45209730e-05, 1.60368261e-04, 2.99539329e-06,\n",
       "        9.22527909e-01, 4.82580072e-06, 3.29683928e-07, 6.48819354e-09,\n",
       "        2.11688498e-08, 3.42544944e-08, 4.22569030e-07, 8.74570603e-08,\n",
       "        4.30370974e-08, 1.78163742e-08, 1.49564130e-07, 5.35138952e-07,\n",
       "        2.48286227e-07, 1.33052165e-08, 4.33567976e-07, 1.01107346e-07,\n",
       "        3.50960576e-08, 1.95027951e-06, 5.01343145e-08, 1.05803579e-07,\n",
       "        8.34761593e-08, 4.66290899e-08, 2.38161178e-07, 1.56652114e-08,\n",
       "        1.72892243e-07, 2.58807749e-08, 1.85868689e-08, 7.33784304e-08,\n",
       "        3.47393314e-09, 2.43092142e-08, 2.28649753e-07, 1.21069274e-06,\n",
       "        2.67951741e-08, 7.97235771e-08, 3.61522410e-07, 8.56765059e-09,\n",
       "        9.93781413e-09, 8.43572323e-09, 6.88205910e-06, 1.82936458e-06,\n",
       "        7.50528102e-08, 6.75991544e-07, 4.16280832e-09, 2.38011648e-06,\n",
       "        1.38004884e-06, 7.38723929e-06, 8.82097368e-07, 6.61211219e-09,\n",
       "        3.86428337e-06, 5.98057750e-06, 1.25628992e-06, 1.87055136e-08,\n",
       "        1.45729810e-08, 4.47760051e-08, 1.00746889e-09, 2.16781721e-08,\n",
       "        1.30497870e-08, 2.59163779e-09, 2.71395351e-08, 2.01604671e-08,\n",
       "        4.47329683e-07, 1.60703451e-07, 1.24485844e-08, 1.28912305e-07,\n",
       "        7.37136588e-07, 3.21328139e-06, 8.31332727e-08, 1.04896598e-08,\n",
       "        3.66837924e-07, 1.60910556e-08, 2.14254090e-08, 1.13212124e-08,\n",
       "        3.17615267e-09, 9.35659230e-08, 8.30223090e-09, 1.65449716e-08,\n",
       "        7.96377080e-08, 2.40642528e-08, 1.17820768e-07, 6.77251137e-07,\n",
       "        1.67650178e-08, 2.67126239e-07, 4.04580014e-08, 6.68603528e-09,\n",
       "        1.44384416e-07, 5.71731562e-07, 1.64793708e-08, 5.73993013e-08,\n",
       "        1.22192114e-06, 8.48258210e-08, 4.17798134e-07, 1.73431573e-07,\n",
       "        4.27874852e-07, 1.74880010e-09, 2.18187846e-09, 5.01267436e-07,\n",
       "        8.37087466e-09, 1.31814137e-09, 2.96452463e-08, 2.98311775e-08,\n",
       "        8.70524453e-09, 1.20265398e-09, 3.92349175e-09, 2.33769071e-09,\n",
       "        3.72772613e-09, 3.96051547e-08, 9.73443903e-08, 1.76539186e-10,\n",
       "        1.39659853e-10, 9.49033350e-08, 9.64132418e-09, 3.03030018e-10,\n",
       "        2.72296385e-09, 2.50262283e-10, 1.75915851e-08, 3.31469047e-10,\n",
       "        4.33757208e-08, 2.75349322e-07, 1.20178157e-07, 4.71177941e-07,\n",
       "        1.85414834e-07, 2.90005642e-09, 4.45116974e-08, 9.95633764e-06,\n",
       "        2.11486821e-07, 1.23778872e-08, 2.79909464e-08, 1.29932658e-07,\n",
       "        4.30996110e-08, 1.67484870e-07, 2.46742804e-08, 3.14367483e-08,\n",
       "        3.16902629e-08, 3.51749874e-09, 2.45525023e-08, 1.87428952e-07,\n",
       "        1.52371047e-06, 3.85283698e-07, 2.21391034e-07, 8.73426664e-09,\n",
       "        5.33466071e-09, 6.45607585e-08, 1.16823466e-08, 7.59324408e-08,\n",
       "        3.92320374e-07, 7.15493664e-09, 3.35329950e-08, 7.49333395e-09,\n",
       "        4.85686405e-06, 1.20604236e-05, 6.67046081e-08, 2.80591532e-08,\n",
       "        5.31984142e-07, 6.71309053e-08, 8.54208260e-09, 1.42850581e-07,\n",
       "        1.18736367e-07, 5.11726171e-07, 4.81647113e-08, 2.68042610e-09,\n",
       "        8.45592396e-09, 2.15769411e-08, 2.50136551e-08, 5.38253516e-05,\n",
       "        4.21437729e-09, 1.08563688e-06, 1.42408219e-09, 2.52732324e-09,\n",
       "        2.79639267e-09, 1.64410585e-09, 2.26283925e-09, 1.25783640e-06,\n",
       "        1.00344204e-08, 1.01810294e-09, 4.69313421e-10, 4.45543856e-06,\n",
       "        4.93811605e-08, 1.13378150e-07, 8.26474320e-08, 1.01544217e-09,\n",
       "        1.17399213e-06, 7.06578547e-08, 4.11806061e-10, 5.11418241e-09,\n",
       "        1.08126290e-08, 7.64604990e-10, 9.35750251e-08, 1.40217253e-07,\n",
       "        4.58958843e-10, 1.09832596e-08, 4.76217155e-09, 1.43982852e-08,\n",
       "        6.87938240e-08, 1.11525198e-08, 2.39814106e-08, 6.33333919e-09,\n",
       "        1.29377725e-07, 4.19604589e-07, 3.05166936e-09, 5.34570745e-07,\n",
       "        2.65423701e-08, 2.87503554e-09, 1.48733591e-07, 8.85946783e-09,\n",
       "        9.61900226e-10, 4.08195930e-08, 5.17679943e-08, 6.17374285e-09,\n",
       "        4.01420425e-10, 6.22350571e-09, 8.94974193e-08, 3.55921443e-08,\n",
       "        7.21313768e-07, 1.51318691e-08, 1.26280391e-08, 4.59420221e-07,\n",
       "        5.32118122e-07, 1.82100166e-07, 6.44540255e-10, 3.61914836e-08,\n",
       "        4.77802065e-09, 7.79937750e-08, 1.33361375e-08, 2.18933316e-08,\n",
       "        3.64461279e-08, 2.41942577e-09, 6.75725573e-08, 6.00183455e-07,\n",
       "        3.60163632e-08, 5.39006578e-07, 9.54375068e-09, 6.79745824e-08,\n",
       "        2.65858668e-10, 1.92682736e-09, 5.49946533e-10, 2.46227074e-08,\n",
       "        9.59288471e-08, 1.16820784e-08, 7.91476396e-09, 1.36403964e-08,\n",
       "        4.39582755e-06, 6.94739288e-09, 4.70107651e-08, 5.74334136e-10,\n",
       "        5.00926411e-08, 4.83054521e-07, 1.81986981e-09, 4.27250171e-07,\n",
       "        8.28727931e-09, 2.42859869e-07, 7.74529667e-08, 8.87710971e-09,\n",
       "        4.92933623e-08, 1.51654024e-06, 2.84118817e-09, 4.27342695e-09,\n",
       "        4.56017363e-10, 1.13231557e-08, 1.15335597e-09, 3.58352601e-08,\n",
       "        6.61096848e-08, 2.65093814e-08, 1.43903145e-09, 1.06686144e-08,\n",
       "        3.48227402e-08, 2.36091968e-09, 7.32081240e-09, 6.61889175e-08,\n",
       "        2.81529537e-07, 8.21405222e-10, 7.19090849e-08, 1.09921194e-09,\n",
       "        6.84924895e-10, 1.26846174e-07, 2.72427059e-07, 5.28090673e-08,\n",
       "        8.87843896e-07, 2.64729372e-09, 1.87714799e-09, 2.09984163e-09,\n",
       "        2.89370803e-07, 2.42809488e-08, 1.65599601e-09, 6.39828190e-10,\n",
       "        1.04044105e-07, 1.76875318e-07, 2.24369723e-09, 8.15660783e-08,\n",
       "        3.40593260e-07, 4.24038490e-07, 4.21082041e-06, 7.01964931e-10,\n",
       "        4.99695896e-10, 6.07644353e-08, 5.76029113e-10, 1.30996199e-07,\n",
       "        2.37772273e-08, 3.88172605e-09, 3.68193587e-09, 4.52584503e-09,\n",
       "        3.17127416e-07, 1.56015147e-07, 2.29362271e-08, 3.88045068e-10,\n",
       "        8.07270482e-08, 1.74811568e-10, 1.88143523e-09, 4.53091561e-05,\n",
       "        1.96858929e-09, 2.97531277e-10, 1.89703167e-06, 4.79829758e-08,\n",
       "        4.21258539e-09, 3.76963882e-09, 7.27003657e-09, 3.94253448e-07,\n",
       "        4.79988103e-08, 1.30022331e-08, 6.58151178e-09, 1.03145044e-06,\n",
       "        5.93106542e-08, 9.18228049e-10, 1.87821616e-08, 1.26713651e-09,\n",
       "        1.43335288e-09, 6.67587017e-08, 6.68700523e-07, 7.01394214e-08,\n",
       "        2.40340597e-07, 7.34907246e-09, 8.18791079e-07, 7.40203721e-09,\n",
       "        6.36040731e-09, 3.63319032e-07, 3.69055465e-06, 3.40616119e-10,\n",
       "        2.07106030e-08, 1.21785204e-09, 7.60194518e-10, 1.51320734e-08,\n",
       "        4.19687440e-09, 3.84532314e-07, 8.66180105e-09, 3.39437385e-08,\n",
       "        2.81095969e-09, 2.23653718e-08, 1.16996681e-07, 8.75035767e-07,\n",
       "        2.34286435e-09, 1.45940930e-08, 9.64803917e-07, 1.25371599e-07,\n",
       "        2.66875038e-08, 8.86537899e-10, 1.52966955e-08, 4.68879939e-08,\n",
       "        2.76167071e-08, 5.58440738e-10, 2.47461074e-08, 3.28318279e-08,\n",
       "        2.37747572e-10, 4.66707277e-08, 2.15900329e-08, 6.33167208e-09,\n",
       "        1.52989710e-08, 8.72042508e-11, 3.45492566e-07, 2.84292042e-07,\n",
       "        3.40478792e-08, 6.36903863e-09, 3.11239834e-09, 5.24397681e-09,\n",
       "        1.55084280e-07, 8.56497522e-08, 1.98933119e-08, 2.81351458e-08,\n",
       "        1.98556993e-09, 2.05227479e-09, 1.75530161e-07, 2.97756966e-08,\n",
       "        1.47092216e-09, 1.01256717e-07, 3.05043613e-05, 7.10549730e-10,\n",
       "        6.42347757e-08, 8.19006303e-08, 2.18440288e-08, 1.72822592e-08,\n",
       "        5.62698554e-09, 4.13564782e-09, 1.69923425e-07, 4.80574371e-08,\n",
       "        1.26160016e-08, 2.23127850e-09, 7.32572936e-09, 7.28508738e-08,\n",
       "        5.76644732e-10, 1.35464029e-09, 4.50913085e-08, 5.79248427e-10,\n",
       "        7.62576580e-09, 1.14571992e-06, 7.82712561e-08, 2.29729068e-07,\n",
       "        5.07106535e-09, 7.20823401e-09, 1.78272089e-07, 5.68617375e-09,\n",
       "        2.36980313e-07, 4.91819363e-10, 1.06555028e-07, 3.30544445e-08,\n",
       "        2.28267808e-07, 4.82309703e-09, 2.36232500e-09, 4.59576839e-08,\n",
       "        7.05614844e-10, 4.84186842e-07, 7.12493886e-08, 1.67228066e-07,\n",
       "        7.95296273e-08, 7.45412843e-10, 4.43680257e-08, 6.25898045e-09,\n",
       "        5.36255811e-07, 7.45791606e-09, 1.45563328e-09, 6.55416841e-08,\n",
       "        1.22839580e-07, 2.84744495e-08, 2.10697090e-05, 6.50953513e-10,\n",
       "        6.01346812e-08, 3.62750200e-07, 2.80103696e-09, 6.11533224e-09,\n",
       "        4.22715345e-07, 1.15509806e-06, 5.34957767e-09, 2.15145292e-07,\n",
       "        1.26072874e-09, 2.63354618e-08, 2.14545981e-09, 2.62740896e-09,\n",
       "        3.45042643e-08, 7.63395917e-07, 3.61734713e-08, 2.73967604e-09,\n",
       "        8.36075742e-09, 8.11155374e-08, 2.14794923e-07, 2.26199348e-09,\n",
       "        1.39991893e-10, 3.43352430e-10, 4.04586196e-08, 1.77339288e-07,\n",
       "        2.04872066e-08, 4.75988315e-09, 6.37813855e-07, 2.08204960e-06,\n",
       "        1.83317521e-08, 8.47233059e-06, 7.83257192e-09, 1.23403232e-10,\n",
       "        1.75876508e-07, 3.17943183e-09, 8.16398060e-09, 3.50174254e-08,\n",
       "        6.94788923e-07, 2.91994500e-08, 9.78220942e-06, 2.31122721e-09,\n",
       "        1.40967271e-09, 5.52213280e-08, 1.62323076e-07, 7.91897747e-09,\n",
       "        5.55245450e-08, 2.80306807e-07, 2.81439458e-08, 9.09160691e-10,\n",
       "        6.81099088e-09, 1.41047906e-06, 2.07133999e-09, 2.02488337e-08,\n",
       "        1.14980043e-08, 5.40215539e-10, 6.27237728e-09, 9.66336557e-08,\n",
       "        9.48812513e-08, 5.16365894e-10, 2.71093210e-08, 5.78478385e-08,\n",
       "        1.62840010e-07, 1.74953430e-09, 3.37967059e-08, 1.20050476e-08,\n",
       "        2.21796448e-08, 3.74080278e-09, 3.30723901e-06, 1.29674379e-06,\n",
       "        1.26027317e-07, 2.44325360e-08, 3.76615361e-09, 4.32465193e-08,\n",
       "        2.22102940e-08, 1.23183703e-08, 1.85803373e-09, 8.51185220e-08,\n",
       "        3.74056910e-08, 1.96826264e-07, 9.39677491e-09, 7.48576667e-08,\n",
       "        3.07092805e-08, 3.37815607e-08, 1.67764796e-07, 8.54318075e-11,\n",
       "        1.63575837e-08, 1.97740565e-06, 5.41966161e-09, 1.11484106e-07,\n",
       "        4.82875573e-10, 5.95326014e-07, 5.39402727e-08, 1.23089251e-07,\n",
       "        9.95308458e-09, 3.33353718e-08, 9.27018462e-09, 1.53062398e-08,\n",
       "        1.21083463e-08, 2.96054514e-09, 1.81819748e-09, 4.31458158e-09,\n",
       "        2.51922816e-09, 6.07237038e-10, 8.04315391e-07, 1.26664421e-08,\n",
       "        1.00346362e-07, 6.26232399e-09, 3.99753652e-08, 2.02296082e-08,\n",
       "        1.04852539e-07, 3.41873130e-09, 8.51616733e-09, 5.86224314e-09,\n",
       "        1.85945286e-08, 1.73652275e-08, 1.25976554e-08, 7.55194662e-09,\n",
       "        5.18738510e-08, 8.34733328e-07, 1.70976932e-07, 1.36592710e-08,\n",
       "        2.22678431e-09, 1.79714945e-08, 4.78136656e-07, 1.86804749e-09,\n",
       "        3.03724379e-10, 5.49190275e-08, 7.92872967e-08, 5.22449906e-09,\n",
       "        9.83765815e-08, 3.75967968e-09, 2.87151902e-08, 1.09861574e-07,\n",
       "        3.74200182e-09, 7.96072896e-09, 5.54092017e-09, 1.69846373e-06,\n",
       "        1.05744675e-07, 1.43132524e-06, 7.13845978e-08, 4.63245620e-09,\n",
       "        1.71064329e-09, 2.85122894e-07, 1.45601653e-09, 7.06292536e-09,\n",
       "        1.91681215e-06, 6.38587072e-10, 5.85867213e-07, 6.66898137e-09,\n",
       "        3.40876261e-09, 1.15477405e-08, 7.49224349e-10, 1.33925809e-07,\n",
       "        1.07298979e-06, 4.32555076e-08, 9.87435342e-08, 4.40300374e-09,\n",
       "        1.16539773e-07, 1.54573982e-07, 6.18857454e-09, 6.90373909e-08,\n",
       "        9.68929204e-09, 2.96666669e-09, 1.30200268e-08, 1.72613634e-09,\n",
       "        3.11928039e-09, 3.37833512e-07, 5.34425437e-09, 3.67864743e-07,\n",
       "        3.44902304e-07, 4.24764979e-09, 4.92493557e-09, 1.94981795e-10,\n",
       "        7.43747419e-09, 2.47675325e-09, 3.70321480e-08, 8.90975514e-07,\n",
       "        1.19247181e-08, 5.62786866e-08, 3.35876607e-08, 1.95859400e-08,\n",
       "        1.28144075e-06, 9.65940430e-08, 1.41418632e-09, 2.26448549e-08,\n",
       "        3.20159926e-10, 2.49829640e-07, 3.02880949e-06, 4.27086171e-08,\n",
       "        7.42001749e-09, 4.81260032e-10, 2.29627535e-08, 5.08190956e-09,\n",
       "        2.19647189e-09, 6.15373438e-07, 2.83397519e-08, 4.84428568e-08,\n",
       "        4.91070651e-09, 6.73718006e-08, 5.46669483e-08, 1.02070805e-06,\n",
       "        2.42608564e-08, 8.49050874e-09, 5.50352411e-07, 1.31368836e-06,\n",
       "        6.89866795e-07, 2.67125370e-06, 2.87037733e-06, 4.49583979e-07,\n",
       "        1.16314268e-07, 6.29722674e-09, 2.06432469e-06, 6.57896464e-07,\n",
       "        1.00006581e-08, 1.21045559e-07, 3.25374089e-07, 1.14397690e-05,\n",
       "        7.72761553e-07, 1.89635152e-08, 7.65943184e-07, 1.13072566e-07,\n",
       "        2.17569998e-08, 4.08488816e-08, 1.28002373e-08, 2.29779673e-07,\n",
       "        6.88240078e-08, 6.07139282e-06, 1.98774686e-07, 1.02610418e-08,\n",
       "        2.40266917e-08, 2.65310206e-07, 2.14211099e-07, 1.24617756e-07,\n",
       "        1.40762801e-09, 7.01719671e-07, 5.06113151e-09, 7.56525722e-08,\n",
       "        2.52430641e-06, 2.06856640e-07, 2.49709558e-07, 8.94444383e-06,\n",
       "        9.69497819e-07, 5.15722240e-06, 2.33878001e-08, 3.53495523e-07,\n",
       "        2.66012250e-07, 4.63043170e-06, 3.02502889e-09, 5.06926874e-08,\n",
       "        4.27315516e-10, 1.34065790e-08, 8.27996871e-08, 2.35494824e-08,\n",
       "        3.02204173e-09, 2.28978814e-09, 1.30504546e-07, 1.46170687e-09,\n",
       "        6.51883214e-09, 6.70822331e-09, 1.17688082e-08, 1.27739455e-08,\n",
       "        6.39601527e-09, 6.33596065e-09, 2.28307456e-07, 3.68596102e-06,\n",
       "        3.72703601e-09, 1.76920537e-07, 1.74706081e-08, 1.18346044e-08,\n",
       "        1.48455621e-08, 4.38708492e-09, 1.80555677e-08, 3.39945387e-08,\n",
       "        7.62113146e-08, 4.04021904e-07, 3.75114126e-07, 1.19947252e-08]],\n",
       "      dtype=float32)"
      ]
     },
     "execution_count": 25,
     "metadata": {},
     "output_type": "execute_result"
    }
   ],
   "source": [
    "predi"
   ]
  },
  {
   "cell_type": "code",
   "execution_count": 27,
   "id": "fcee43e4-4df8-4bea-af2a-d1b6a749fda0",
   "metadata": {},
   "outputs": [
    {
     "data": {
      "text/plain": [
       "292"
      ]
     },
     "execution_count": 27,
     "metadata": {},
     "output_type": "execute_result"
    }
   ],
   "source": [
    "import numpy as np\n",
    "np.argmax(predi[0])"
   ]
  },
  {
   "cell_type": "code",
   "execution_count": 28,
   "id": "4da5a142-7fd9-4be6-9b48-17f9eceafa9c",
   "metadata": {},
   "outputs": [
    {
     "data": {
      "text/plain": [
       "['n02129604', 'tiger']"
      ]
     },
     "execution_count": 28,
     "metadata": {},
     "output_type": "execute_result"
    }
   ],
   "source": [
    "labelInfo['292']"
   ]
  },
  {
   "cell_type": "code",
   "execution_count": 30,
   "id": "de9ff221-edbf-47df-a09b-1b7f484a00ce",
   "metadata": {},
   "outputs": [
    {
     "name": "stdout",
     "output_type": "stream",
     "text": [
      "WARNING:tensorflow:Compiled the loaded model, but the compiled metrics have yet to be built. `model.compile_metrics` will be empty until you train or evaluate the model.\n"
     ]
    }
   ],
   "source": [
    "model.compiled_metrics == None\n",
    "model.save('MobileNetModelImagenet.h5')"
   ]
  },
  {
   "cell_type": "code",
   "execution_count": 32,
   "id": "dba34d92-c417-49a1-8aca-5b66df69449d",
   "metadata": {},
   "outputs": [],
   "source": [
    "from keras.models import load_model"
   ]
  },
  {
   "cell_type": "code",
   "execution_count": 33,
   "id": "a26acab9-97db-42e6-9997-c432c5e8c375",
   "metadata": {},
   "outputs": [
    {
     "name": "stdout",
     "output_type": "stream",
     "text": [
      "WARNING:tensorflow:No training configuration found in the save file, so the model was *not* compiled. Compile it manually.\n"
     ]
    },
    {
     "data": {
      "text/plain": [
       "<keras.engine.functional.Functional at 0x21668e05130>"
      ]
     },
     "execution_count": 33,
     "metadata": {},
     "output_type": "execute_result"
    }
   ],
   "source": [
    "load_model('MobileNetModelImagenet.h5')"
   ]
  },
  {
   "cell_type": "code",
   "execution_count": null,
   "id": "4af20a09-1d95-4f7e-aa39-aa3b82f3b949",
   "metadata": {},
   "outputs": [],
   "source": []
  },
  {
   "cell_type": "code",
   "execution_count": 23,
   "id": "1d0e4791-45e4-4d50-81c1-e9e40f68590f",
   "metadata": {},
   "outputs": [],
   "source": [
    "# img = image.load_img(testimage, target_size=(img_height, img_width))\n",
    "# x = image.img_to_array(img)\n",
    "# x=x/255\n",
    "# x=x.reshape(1,img_height, img_width,3)\n",
    "# model_graph= modeScope['modelObj']['model_graph']\n",
    "# tf_session = modeScope['modelObj']['tf_session']\n",
    "# with model_graph.as_default():\n",
    "#     modelToUse=modeScope['modelObj']['recoModelObj'].model\n",
    "#     predi=modelToUse.predict(x)"
   ]
  }
 ],
 "metadata": {
  "kernelspec": {
   "display_name": "Python 3 (ipykernel)",
   "language": "python",
   "name": "python3"
  },
  "language_info": {
   "codemirror_mode": {
    "name": "ipython",
    "version": 3
   },
   "file_extension": ".py",
   "mimetype": "text/x-python",
   "name": "python",
   "nbconvert_exporter": "python",
   "pygments_lexer": "ipython3",
   "version": "3.8.0"
  }
 },
 "nbformat": 4,
 "nbformat_minor": 5
}
